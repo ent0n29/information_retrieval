{
 "cells": [
  {
   "cell_type": "code",
   "execution_count": 26,
   "metadata": {},
   "outputs": [],
   "source": [
    "from nltk.corpus import wordnet as wn"
   ]
  },
  {
   "cell_type": "code",
   "execution_count": 28,
   "metadata": {},
   "outputs": [],
   "source": [
    "def disambiguateTerms(terms):\n",
    "    for t_i in terms: # t_i is target term\n",
    "        selSense = None\n",
    "        selScore = 0.0\n",
    "        for s_ti in wn.synsets(t_i, wn.NOUN):\n",
    "            score_i = 0.0\n",
    "            for t_j in terms: # t_j term in t_i's context window\n",
    "                if (t_i==t_j):\n",
    "                    continue\n",
    "                bestScore = 0.0\n",
    "                for s_tj in wn.synsets(t_j, wn.NOUN):\n",
    "                    tempScore = s_ti.wup_similarity(s_tj)\n",
    "                    if (tempScore>bestScore):\n",
    "                        bestScore=tempScore\n",
    "                score_i = score_i + bestScore\n",
    "            if (score_i>selScore):\n",
    "                selScore = score_i\n",
    "                selSense = s_ti\n",
    "        if (selSense is not None):\n",
    "            print(t_i,\": \",selSense,\", \",selSense.definition())\n",
    "            print(\"Score: \",selScore)\n",
    "            print(\"=============================================\")\n",
    "        else:\n",
    "            print(t_i,\": --\")"
   ]
  },
  {
   "cell_type": "code",
   "execution_count": 29,
   "metadata": {},
   "outputs": [
    {
     "name": "stdout",
     "output_type": "stream",
     "text": [
      "home :  Synset('family.n.01') ,  a social unit living together\n",
      "Score:  1.0\n",
      "=============================================\n",
      "house :  Synset('family.n.01') ,  a social unit living together\n",
      "Score:  1.0\n",
      "=============================================\n"
     ]
    }
   ],
   "source": [
    "disambiguateTerms([\"home\", \"house\"])"
   ]
  }
 ],
 "metadata": {
  "kernelspec": {
   "display_name": "Python 3 (ipykernel)",
   "language": "python",
   "name": "python3"
  },
  "language_info": {
   "codemirror_mode": {
    "name": "ipython",
    "version": 3
   },
   "file_extension": ".py",
   "mimetype": "text/x-python",
   "name": "python",
   "nbconvert_exporter": "python",
   "pygments_lexer": "ipython3",
   "version": "3.10.12"
  }
 },
 "nbformat": 4,
 "nbformat_minor": 2
}
